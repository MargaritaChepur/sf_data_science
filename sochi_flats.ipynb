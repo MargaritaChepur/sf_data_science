{
 "cells": [
  {
   "cell_type": "markdown",
   "metadata": {},
   "source": [
    "# Предсказание стоимости квартир на вторичном рынке в г. Сочи"
   ]
  },
  {
   "cell_type": "markdown",
   "metadata": {},
   "source": [
    "Данные: Имеется датасет с объявлениями о предложении квартир на вторичном рынке г. Сочи на сайтах avito.ru, sob.ru, cian.ru. Источник данных сайт-парсер https://ads-api.ru/\n",
    "\n",
    "Временные рамки: данные с 01.06.2023 по 31.05.2024\n",
    "\n",
    "Задача: предсказать стоимость квартиры на вторичном рынке г.Сочи."
   ]
  },
  {
   "cell_type": "code",
   "execution_count": 65,
   "metadata": {},
   "outputs": [],
   "source": [
    "import pandas as pd\n",
    "import numpy as np\n",
    "import matplotlib.pyplot as plt\n",
    "import plotly.express as px\n",
    "import seaborn as sns\n",
    "from  sklearn.ensemble import IsolationForest\n",
    "import warnings\n",
    "warnings.filterwarnings('ignore')\n",
    "from sklearn.preprocessing  import LabelEncoder\n",
    "from sklearn import linear_model \n",
    "from sklearn import tree \n",
    "from sklearn import ensemble \n",
    "from sklearn import metrics \n",
    "from sklearn import preprocessing \n",
    "from sklearn.model_selection import train_test_split \n",
    "from sklearn.feature_selection import SelectKBest, f_classif\n",
    "\n",
    "\n",
    "from scipy import stats\n",
    "import statsmodels.api as sm\n",
    "from statsmodels import stats as sms"
   ]
  },
  {
   "cell_type": "markdown",
   "metadata": {},
   "source": [
    "### 1. Знакомство с данными, очистка, базовый анализ."
   ]
  },
  {
   "cell_type": "code",
   "execution_count": 66,
   "metadata": {},
   "outputs": [],
   "source": [
    "df = pd.read_csv('sochi_flats.csv', sep = ';')"
   ]
  },
  {
   "cell_type": "code",
   "execution_count": 67,
   "metadata": {},
   "outputs": [
    {
     "data": {
      "text/html": [
       "<div>\n",
       "<style scoped>\n",
       "    .dataframe tbody tr th:only-of-type {\n",
       "        vertical-align: middle;\n",
       "    }\n",
       "\n",
       "    .dataframe tbody tr th {\n",
       "        vertical-align: top;\n",
       "    }\n",
       "\n",
       "    .dataframe thead th {\n",
       "        text-align: right;\n",
       "    }\n",
       "</style>\n",
       "<table border=\"1\" class=\"dataframe\">\n",
       "  <thead>\n",
       "    <tr style=\"text-align: right;\">\n",
       "      <th></th>\n",
       "      <th>Название</th>\n",
       "      <th>Цена</th>\n",
       "      <th>Дата</th>\n",
       "      <th>Телефон</th>\n",
       "      <th>Оператор</th>\n",
       "      <th>Контактное лицо (автор объявления)</th>\n",
       "      <th>Тип автора</th>\n",
       "      <th>Регион</th>\n",
       "      <th>Город</th>\n",
       "      <th>Метро/Район</th>\n",
       "      <th>...</th>\n",
       "      <th>Источник</th>\n",
       "      <th>lat</th>\n",
       "      <th>lng</th>\n",
       "      <th>Персона для контактов</th>\n",
       "      <th>Доп.параметры</th>\n",
       "      <th>URL</th>\n",
       "      <th>Ссылки на картинки</th>\n",
       "      <th>Регион мобильного телефона</th>\n",
       "      <th>Номер подменён</th>\n",
       "      <th>Расстояние до метро, км</th>\n",
       "    </tr>\n",
       "  </thead>\n",
       "  <tbody>\n",
       "    <tr>\n",
       "      <th>0</th>\n",
       "      <td>2-к кв. Краснодарский край, Сочи ул. Тимирязев...</td>\n",
       "      <td>6850000</td>\n",
       "      <td>2023-05-30 23:57:51</td>\n",
       "      <td>89094628623</td>\n",
       "      <td>Вымпел-Коммуникации</td>\n",
       "      <td>недоступно</td>\n",
       "      <td>Частное лицо (фильтр)</td>\n",
       "      <td>Краснодарский край</td>\n",
       "      <td>Сочи</td>\n",
       "      <td>Центральный</td>\n",
       "      <td>...</td>\n",
       "      <td>cian.ru</td>\n",
       "      <td>43.629455</td>\n",
       "      <td>39.725694</td>\n",
       "      <td>NaN</td>\n",
       "      <td>Площадь кухни=5.0|Жилая площадь=0|Тип объявлен...</td>\n",
       "      <td>https://www.cian.ru/sale/flat/287680372</td>\n",
       "      <td>https://cdn-p.cian.site/images/65/629/271/kvar...</td>\n",
       "      <td>Краснодарский край</td>\n",
       "      <td>да</td>\n",
       "      <td>неизвестно</td>\n",
       "    </tr>\n",
       "    <tr>\n",
       "      <th>1</th>\n",
       "      <td>Студия Краснодарский край, Сочи Светлана мкр, ...</td>\n",
       "      <td>6250000</td>\n",
       "      <td>2023-05-30 23:57:30</td>\n",
       "      <td>89891984835</td>\n",
       "      <td>Мобильные ТелеСистемы</td>\n",
       "      <td>недоступно</td>\n",
       "      <td>Частное лицо (фильтр)</td>\n",
       "      <td>Краснодарский край</td>\n",
       "      <td>Сочи</td>\n",
       "      <td>Хостинский</td>\n",
       "      <td>...</td>\n",
       "      <td>cian.ru</td>\n",
       "      <td>43.582207</td>\n",
       "      <td>39.740714</td>\n",
       "      <td>NaN</td>\n",
       "      <td>Площадь кухни=0|Жилая площадь=0|Тип объявления...</td>\n",
       "      <td>https://www.cian.ru/sale/flat/288061259</td>\n",
       "      <td>https://cdn-p.cian.site/images/kvartira-svetla...</td>\n",
       "      <td>Краснодарский край</td>\n",
       "      <td>да</td>\n",
       "      <td>неизвестно</td>\n",
       "    </tr>\n",
       "    <tr>\n",
       "      <th>2</th>\n",
       "      <td>Квартира-студия, 21.8 м², 1/3 эт.</td>\n",
       "      <td>6900000</td>\n",
       "      <td>2023-05-30 23:55:56</td>\n",
       "      <td>0</td>\n",
       "      <td>не определен</td>\n",
       "      <td>недоступно</td>\n",
       "      <td>Частное лицо</td>\n",
       "      <td>Краснодарский край</td>\n",
       "      <td>Сочи</td>\n",
       "      <td>Адлерский</td>\n",
       "      <td>...</td>\n",
       "      <td>avito.ru</td>\n",
       "      <td>43.484794</td>\n",
       "      <td>39.894631</td>\n",
       "      <td>NaN</td>\n",
       "      <td>Тип объявления=Продам|Количество комнат=Студия...</td>\n",
       "      <td>https://www.avito.ru/sochi/kvartiry/kvartira-s...</td>\n",
       "      <td>https://90.img.avito.st/image/1/1.rx2Lgba6A_S9...</td>\n",
       "      <td>не определен</td>\n",
       "      <td>да</td>\n",
       "      <td>неизвестно</td>\n",
       "    </tr>\n",
       "    <tr>\n",
       "      <th>3</th>\n",
       "      <td>2-к. квартира, 42 м², 2/5 эт.</td>\n",
       "      <td>5100000</td>\n",
       "      <td>2023-05-30 23:55:19</td>\n",
       "      <td>0</td>\n",
       "      <td>не определен</td>\n",
       "      <td>недоступно</td>\n",
       "      <td>Частное лицо</td>\n",
       "      <td>Краснодарский край</td>\n",
       "      <td>Сочи</td>\n",
       "      <td>Адлерский</td>\n",
       "      <td>...</td>\n",
       "      <td>avito.ru</td>\n",
       "      <td>43.438172</td>\n",
       "      <td>39.911178</td>\n",
       "      <td>NaN</td>\n",
       "      <td>Площадь кухни=8|Жилая площадь=29|Тип объявлени...</td>\n",
       "      <td>https://www.avito.ru/sochi/kvartiry/2-k._kvart...</td>\n",
       "      <td>https://90.img.avito.st/image/1/1.szLKj7a5H9v8...</td>\n",
       "      <td>не определен</td>\n",
       "      <td>да</td>\n",
       "      <td>неизвестно</td>\n",
       "    </tr>\n",
       "    <tr>\n",
       "      <th>4</th>\n",
       "      <td>3-к. квартира, 68.8 м², 1/5 эт.</td>\n",
       "      <td>14000000</td>\n",
       "      <td>2023-05-30 23:55:05</td>\n",
       "      <td>0</td>\n",
       "      <td>не определен</td>\n",
       "      <td>недоступно</td>\n",
       "      <td>Частное лицо</td>\n",
       "      <td>Краснодарский край</td>\n",
       "      <td>Сочи</td>\n",
       "      <td>Центральный</td>\n",
       "      <td>...</td>\n",
       "      <td>avito.ru</td>\n",
       "      <td>43.607368</td>\n",
       "      <td>39.724892</td>\n",
       "      <td>NaN</td>\n",
       "      <td>Площадь кухни=16|Тип объявления=Продам|Количес...</td>\n",
       "      <td>https://www.avito.ru/sochi/kvartiry/3-k._kvart...</td>\n",
       "      <td>https://10.img.avito.st/image/1/1.awoDCLa6x-M1...</td>\n",
       "      <td>не определен</td>\n",
       "      <td>да</td>\n",
       "      <td>неизвестно</td>\n",
       "    </tr>\n",
       "  </tbody>\n",
       "</table>\n",
       "<p>5 rows × 26 columns</p>\n",
       "</div>"
      ],
      "text/plain": [
       "                                            Название      Цена  \\\n",
       "0  2-к кв. Краснодарский край, Сочи ул. Тимирязев...   6850000   \n",
       "1  Студия Краснодарский край, Сочи Светлана мкр, ...   6250000   \n",
       "2                  Квартира-студия, 21.8 м², 1/3 эт.   6900000   \n",
       "3                      2-к. квартира, 42 м², 2/5 эт.   5100000   \n",
       "4                    3-к. квартира, 68.8 м², 1/5 эт.  14000000   \n",
       "\n",
       "                  Дата      Телефон               Оператор  \\\n",
       "0  2023-05-30 23:57:51  89094628623    Вымпел-Коммуникации   \n",
       "1  2023-05-30 23:57:30  89891984835  Мобильные ТелеСистемы   \n",
       "2  2023-05-30 23:55:56            0           не определен   \n",
       "3  2023-05-30 23:55:19            0           не определен   \n",
       "4  2023-05-30 23:55:05            0           не определен   \n",
       "\n",
       "  Контактное лицо (автор объявления)             Тип автора  \\\n",
       "0                         недоступно  Частное лицо (фильтр)   \n",
       "1                         недоступно  Частное лицо (фильтр)   \n",
       "2                         недоступно           Частное лицо   \n",
       "3                         недоступно           Частное лицо   \n",
       "4                         недоступно           Частное лицо   \n",
       "\n",
       "               Регион Город  Метро/Район  ...  Источник        lat        lng  \\\n",
       "0  Краснодарский край  Сочи  Центральный  ...   cian.ru  43.629455  39.725694   \n",
       "1  Краснодарский край  Сочи   Хостинский  ...   cian.ru  43.582207  39.740714   \n",
       "2  Краснодарский край  Сочи    Адлерский  ...  avito.ru  43.484794  39.894631   \n",
       "3  Краснодарский край  Сочи    Адлерский  ...  avito.ru  43.438172  39.911178   \n",
       "4  Краснодарский край  Сочи  Центральный  ...  avito.ru  43.607368  39.724892   \n",
       "\n",
       "  Персона для контактов                                      Доп.параметры  \\\n",
       "0                   NaN  Площадь кухни=5.0|Жилая площадь=0|Тип объявлен...   \n",
       "1                   NaN  Площадь кухни=0|Жилая площадь=0|Тип объявления...   \n",
       "2                   NaN  Тип объявления=Продам|Количество комнат=Студия...   \n",
       "3                   NaN  Площадь кухни=8|Жилая площадь=29|Тип объявлени...   \n",
       "4                   NaN  Площадь кухни=16|Тип объявления=Продам|Количес...   \n",
       "\n",
       "                                                 URL  \\\n",
       "0            https://www.cian.ru/sale/flat/287680372   \n",
       "1            https://www.cian.ru/sale/flat/288061259   \n",
       "2  https://www.avito.ru/sochi/kvartiry/kvartira-s...   \n",
       "3  https://www.avito.ru/sochi/kvartiry/2-k._kvart...   \n",
       "4  https://www.avito.ru/sochi/kvartiry/3-k._kvart...   \n",
       "\n",
       "                                  Ссылки на картинки  \\\n",
       "0  https://cdn-p.cian.site/images/65/629/271/kvar...   \n",
       "1  https://cdn-p.cian.site/images/kvartira-svetla...   \n",
       "2  https://90.img.avito.st/image/1/1.rx2Lgba6A_S9...   \n",
       "3  https://90.img.avito.st/image/1/1.szLKj7a5H9v8...   \n",
       "4  https://10.img.avito.st/image/1/1.awoDCLa6x-M1...   \n",
       "\n",
       "   Регион мобильного телефона  Номер подменён  Расстояние до метро, км  \n",
       "0          Краснодарский край              да               неизвестно  \n",
       "1          Краснодарский край              да               неизвестно  \n",
       "2                не определен              да               неизвестно  \n",
       "3                не определен              да               неизвестно  \n",
       "4                не определен              да               неизвестно  \n",
       "\n",
       "[5 rows x 26 columns]"
      ]
     },
     "execution_count": 67,
     "metadata": {},
     "output_type": "execute_result"
    }
   ],
   "source": [
    "df.head()"
   ]
  },
  {
   "cell_type": "code",
   "execution_count": 68,
   "metadata": {},
   "outputs": [
    {
     "name": "stdout",
     "output_type": "stream",
     "text": [
      "<class 'pandas.core.frame.DataFrame'>\n",
      "RangeIndex: 34233 entries, 0 to 34232\n",
      "Data columns (total 26 columns):\n",
      " #   Column                              Non-Null Count  Dtype  \n",
      "---  ------                              --------------  -----  \n",
      " 0   Название                            34233 non-null  object \n",
      " 1   Цена                                34233 non-null  int64  \n",
      " 2   Дата                                34233 non-null  object \n",
      " 3   Телефон                             34233 non-null  int64  \n",
      " 4   Оператор                            34233 non-null  object \n",
      " 5   Контактное лицо (автор объявления)  34233 non-null  object \n",
      " 6   Тип автора                          34233 non-null  object \n",
      " 7   Регион                              34233 non-null  object \n",
      " 8   Город                               34233 non-null  object \n",
      " 9   Метро/Район                         33293 non-null  object \n",
      " 10  Адрес                               34189 non-null  object \n",
      " 11  Описание                            34233 non-null  object \n",
      " 12  Тип объявления                      34233 non-null  object \n",
      " 13  Категория1                          34233 non-null  object \n",
      " 14  Категория2                          34233 non-null  object \n",
      " 15  ID на сайте                         34233 non-null  int64  \n",
      " 16  Источник                            34233 non-null  object \n",
      " 17  lat                                 34233 non-null  float64\n",
      " 18  lng                                 34233 non-null  float64\n",
      " 19  Персона для контактов               0 non-null      float64\n",
      " 20  Доп.параметры                       34207 non-null  object \n",
      " 21  URL                                 34210 non-null  object \n",
      " 22  Ссылки на картинки                  33374 non-null  object \n",
      " 23  Регион мобильного телефона          34233 non-null  object \n",
      " 24  Номер подменён                      34233 non-null  object \n",
      " 25  Расстояние до метро, км             34233 non-null  object \n",
      "dtypes: float64(3), int64(3), object(20)\n",
      "memory usage: 6.8+ MB\n"
     ]
    }
   ],
   "source": [
    "df.info()"
   ]
  },
  {
   "cell_type": "code",
   "execution_count": 69,
   "metadata": {},
   "outputs": [
    {
     "data": {
      "text/html": [
       "<div>\n",
       "<style scoped>\n",
       "    .dataframe tbody tr th:only-of-type {\n",
       "        vertical-align: middle;\n",
       "    }\n",
       "\n",
       "    .dataframe tbody tr th {\n",
       "        vertical-align: top;\n",
       "    }\n",
       "\n",
       "    .dataframe thead th {\n",
       "        text-align: right;\n",
       "    }\n",
       "</style>\n",
       "<table border=\"1\" class=\"dataframe\">\n",
       "  <thead>\n",
       "    <tr style=\"text-align: right;\">\n",
       "      <th></th>\n",
       "      <th>Название</th>\n",
       "      <th>Дата</th>\n",
       "      <th>Оператор</th>\n",
       "      <th>Контактное лицо (автор объявления)</th>\n",
       "      <th>Тип автора</th>\n",
       "      <th>Регион</th>\n",
       "      <th>Город</th>\n",
       "      <th>Метро/Район</th>\n",
       "      <th>Адрес</th>\n",
       "      <th>Описание</th>\n",
       "      <th>Тип объявления</th>\n",
       "      <th>Категория1</th>\n",
       "      <th>Категория2</th>\n",
       "      <th>Источник</th>\n",
       "      <th>Доп.параметры</th>\n",
       "      <th>URL</th>\n",
       "      <th>Ссылки на картинки</th>\n",
       "      <th>Регион мобильного телефона</th>\n",
       "      <th>Номер подменён</th>\n",
       "      <th>Расстояние до метро, км</th>\n",
       "    </tr>\n",
       "  </thead>\n",
       "  <tbody>\n",
       "    <tr>\n",
       "      <th>count</th>\n",
       "      <td>34233</td>\n",
       "      <td>34233</td>\n",
       "      <td>34233</td>\n",
       "      <td>34233</td>\n",
       "      <td>34233</td>\n",
       "      <td>34233</td>\n",
       "      <td>34233</td>\n",
       "      <td>33293</td>\n",
       "      <td>34189</td>\n",
       "      <td>34233</td>\n",
       "      <td>34233</td>\n",
       "      <td>34233</td>\n",
       "      <td>34233</td>\n",
       "      <td>34233</td>\n",
       "      <td>34207</td>\n",
       "      <td>34210</td>\n",
       "      <td>33374</td>\n",
       "      <td>34233</td>\n",
       "      <td>34233</td>\n",
       "      <td>34233</td>\n",
       "    </tr>\n",
       "    <tr>\n",
       "      <th>unique</th>\n",
       "      <td>23629</td>\n",
       "      <td>33728</td>\n",
       "      <td>11</td>\n",
       "      <td>1</td>\n",
       "      <td>2</td>\n",
       "      <td>1</td>\n",
       "      <td>2</td>\n",
       "      <td>4</td>\n",
       "      <td>7475</td>\n",
       "      <td>33332</td>\n",
       "      <td>1</td>\n",
       "      <td>1</td>\n",
       "      <td>1</td>\n",
       "      <td>2</td>\n",
       "      <td>31034</td>\n",
       "      <td>34210</td>\n",
       "      <td>33374</td>\n",
       "      <td>82</td>\n",
       "      <td>2</td>\n",
       "      <td>1</td>\n",
       "    </tr>\n",
       "    <tr>\n",
       "      <th>top</th>\n",
       "      <td>1-к. квартира, 30 м², 2/5 эт.</td>\n",
       "      <td>2022-12-11 21:51:55</td>\n",
       "      <td>Мобильные ТелеСистемы</td>\n",
       "      <td>недоступно</td>\n",
       "      <td>Частное лицо (фильтр)</td>\n",
       "      <td>Краснодарский край</td>\n",
       "      <td>Сочи</td>\n",
       "      <td>Центральный</td>\n",
       "      <td>Сочи</td>\n",
       "      <td>Уникальное предложение в уникальном комплексе!...</td>\n",
       "      <td>Продам</td>\n",
       "      <td>Недвижимость</td>\n",
       "      <td>Квартиры</td>\n",
       "      <td>avito.ru</td>\n",
       "      <td>Тип объявления=Продам|Количество комнат=Студия...</td>\n",
       "      <td>https://www.cian.ru/sale/flat/287680372</td>\n",
       "      <td>https://cdn-p.cian.site/images/65/629/271/kvar...</td>\n",
       "      <td>Краснодарский край</td>\n",
       "      <td>да</td>\n",
       "      <td>неизвестно</td>\n",
       "    </tr>\n",
       "    <tr>\n",
       "      <th>freq</th>\n",
       "      <td>49</td>\n",
       "      <td>5</td>\n",
       "      <td>22743</td>\n",
       "      <td>34233</td>\n",
       "      <td>30316</td>\n",
       "      <td>34233</td>\n",
       "      <td>33438</td>\n",
       "      <td>12184</td>\n",
       "      <td>4870</td>\n",
       "      <td>11</td>\n",
       "      <td>34233</td>\n",
       "      <td>34233</td>\n",
       "      <td>34233</td>\n",
       "      <td>28753</td>\n",
       "      <td>21</td>\n",
       "      <td>1</td>\n",
       "      <td>1</td>\n",
       "      <td>23567</td>\n",
       "      <td>30558</td>\n",
       "      <td>34233</td>\n",
       "    </tr>\n",
       "  </tbody>\n",
       "</table>\n",
       "</div>"
      ],
      "text/plain": [
       "                             Название                 Дата  \\\n",
       "count                           34233                34233   \n",
       "unique                          23629                33728   \n",
       "top     1-к. квартира, 30 м², 2/5 эт.  2022-12-11 21:51:55   \n",
       "freq                               49                    5   \n",
       "\n",
       "                     Оператор Контактное лицо (автор объявления)  \\\n",
       "count                   34233                              34233   \n",
       "unique                     11                                  1   \n",
       "top     Мобильные ТелеСистемы                         недоступно   \n",
       "freq                    22743                              34233   \n",
       "\n",
       "                   Тип автора              Регион  Город  Метро/Район  Адрес  \\\n",
       "count                   34233               34233  34233        33293  34189   \n",
       "unique                      2                   1      2            4   7475   \n",
       "top     Частное лицо (фильтр)  Краснодарский край   Сочи  Центральный   Сочи   \n",
       "freq                    30316               34233  33438        12184   4870   \n",
       "\n",
       "                                                 Описание Тип объявления  \\\n",
       "count                                               34233          34233   \n",
       "unique                                              33332              1   \n",
       "top     Уникальное предложение в уникальном комплексе!...         Продам   \n",
       "freq                                                   11          34233   \n",
       "\n",
       "          Категория1 Категория2  Источник  \\\n",
       "count          34233      34233     34233   \n",
       "unique             1          1         2   \n",
       "top     Недвижимость   Квартиры  avito.ru   \n",
       "freq           34233      34233     28753   \n",
       "\n",
       "                                            Доп.параметры  \\\n",
       "count                                               34207   \n",
       "unique                                              31034   \n",
       "top     Тип объявления=Продам|Количество комнат=Студия...   \n",
       "freq                                                   21   \n",
       "\n",
       "                                            URL  \\\n",
       "count                                     34210   \n",
       "unique                                    34210   \n",
       "top     https://www.cian.ru/sale/flat/287680372   \n",
       "freq                                          1   \n",
       "\n",
       "                                       Ссылки на картинки  \\\n",
       "count                                               33374   \n",
       "unique                                              33374   \n",
       "top     https://cdn-p.cian.site/images/65/629/271/kvar...   \n",
       "freq                                                    1   \n",
       "\n",
       "       Регион мобильного телефона Номер подменён Расстояние до метро, км  \n",
       "count                       34233          34233                   34233  \n",
       "unique                         82              2                       1  \n",
       "top            Краснодарский край             да              неизвестно  \n",
       "freq                        23567          30558                   34233  "
      ]
     },
     "execution_count": 69,
     "metadata": {},
     "output_type": "execute_result"
    }
   ],
   "source": [
    "df.describe(include='object')"
   ]
  },
  {
   "cell_type": "markdown",
   "metadata": {},
   "source": [
    "Удалим неинформативные колонки."
   ]
  },
  {
   "cell_type": "code",
   "execution_count": 70,
   "metadata": {},
   "outputs": [],
   "source": [
    "drop_columns = ['Телефон', 'Оператор', 'Контактное лицо (автор объявления)', \n",
    "                'Тип автора', 'Регион', 'Город', 'Тип объявления', 'ID на сайте', \n",
    "                'Источник', 'Персона для контактов', 'URL', 'Ссылки на картинки', \n",
    "                'Регион мобильного телефона', 'Номер подменён', 'Расстояние до метро, км', \n",
    "                'Категория1', 'Категория2']\n",
    "\n",
    "df = df.drop(drop_columns, axis=1)"
   ]
  },
  {
   "cell_type": "code",
   "execution_count": 71,
   "metadata": {},
   "outputs": [
    {
     "data": {
      "text/html": [
       "<div>\n",
       "<style scoped>\n",
       "    .dataframe tbody tr th:only-of-type {\n",
       "        vertical-align: middle;\n",
       "    }\n",
       "\n",
       "    .dataframe tbody tr th {\n",
       "        vertical-align: top;\n",
       "    }\n",
       "\n",
       "    .dataframe thead th {\n",
       "        text-align: right;\n",
       "    }\n",
       "</style>\n",
       "<table border=\"1\" class=\"dataframe\">\n",
       "  <thead>\n",
       "    <tr style=\"text-align: right;\">\n",
       "      <th></th>\n",
       "      <th>Название</th>\n",
       "      <th>Цена</th>\n",
       "      <th>Дата</th>\n",
       "      <th>Метро/Район</th>\n",
       "      <th>Адрес</th>\n",
       "      <th>Описание</th>\n",
       "      <th>lat</th>\n",
       "      <th>lng</th>\n",
       "      <th>Доп.параметры</th>\n",
       "    </tr>\n",
       "  </thead>\n",
       "  <tbody>\n",
       "    <tr>\n",
       "      <th>0</th>\n",
       "      <td>2-к кв. Краснодарский край, Сочи ул. Тимирязев...</td>\n",
       "      <td>6850000</td>\n",
       "      <td>2023-05-30 23:57:51</td>\n",
       "      <td>Центральный</td>\n",
       "      <td>ул. Тимирязева, 38В</td>\n",
       "      <td>СРОЧНАЯ ПРОДАЖА. Собственник.Торга НЕТ. Продаю...</td>\n",
       "      <td>43.629455</td>\n",
       "      <td>39.725694</td>\n",
       "      <td>Площадь кухни=5.0|Жилая площадь=0|Тип объявлен...</td>\n",
       "    </tr>\n",
       "    <tr>\n",
       "      <th>1</th>\n",
       "      <td>Студия Краснодарский край, Сочи Светлана мкр, ...</td>\n",
       "      <td>6250000</td>\n",
       "      <td>2023-05-30 23:57:30</td>\n",
       "      <td>Хостинский</td>\n",
       "      <td>Светлана мкр, ул. Лысая Гора, 27/18</td>\n",
       "      <td>Продам квартиру-студию 25кв.м в центре Сочи на...</td>\n",
       "      <td>43.582207</td>\n",
       "      <td>39.740714</td>\n",
       "      <td>Площадь кухни=0|Жилая площадь=0|Тип объявления...</td>\n",
       "    </tr>\n",
       "    <tr>\n",
       "      <th>2</th>\n",
       "      <td>Квартира-студия, 21.8 м², 1/3 эт.</td>\n",
       "      <td>6900000</td>\n",
       "      <td>2023-05-30 23:55:56</td>\n",
       "      <td>Адлерский</td>\n",
       "      <td>ул. Ленина, 298В/1</td>\n",
       "      <td>Продаю студию в ЖК Касабланка!!!!!! СОБСТВЕННИ...</td>\n",
       "      <td>43.484794</td>\n",
       "      <td>39.894631</td>\n",
       "      <td>Тип объявления=Продам|Количество комнат=Студия...</td>\n",
       "    </tr>\n",
       "    <tr>\n",
       "      <th>3</th>\n",
       "      <td>2-к. квартира, 42 м², 2/5 эт.</td>\n",
       "      <td>5100000</td>\n",
       "      <td>2023-05-30 23:55:19</td>\n",
       "      <td>Адлерский</td>\n",
       "      <td>жилой район Адлер</td>\n",
       "      <td>В продаже 2к.квартира, окна на две стороны, ле...</td>\n",
       "      <td>43.438172</td>\n",
       "      <td>39.911178</td>\n",
       "      <td>Площадь кухни=8|Жилая площадь=29|Тип объявлени...</td>\n",
       "    </tr>\n",
       "    <tr>\n",
       "      <th>4</th>\n",
       "      <td>3-к. квартира, 68.8 м², 1/5 эт.</td>\n",
       "      <td>14000000</td>\n",
       "      <td>2023-05-30 23:55:05</td>\n",
       "      <td>Центральный</td>\n",
       "      <td>микрорайон Заречный, Рабочий пер., 35</td>\n",
       "      <td>Срочно продается просторная трехкомнатная квар...</td>\n",
       "      <td>43.607368</td>\n",
       "      <td>39.724892</td>\n",
       "      <td>Площадь кухни=16|Тип объявления=Продам|Количес...</td>\n",
       "    </tr>\n",
       "  </tbody>\n",
       "</table>\n",
       "</div>"
      ],
      "text/plain": [
       "                                            Название      Цена  \\\n",
       "0  2-к кв. Краснодарский край, Сочи ул. Тимирязев...   6850000   \n",
       "1  Студия Краснодарский край, Сочи Светлана мкр, ...   6250000   \n",
       "2                  Квартира-студия, 21.8 м², 1/3 эт.   6900000   \n",
       "3                      2-к. квартира, 42 м², 2/5 эт.   5100000   \n",
       "4                    3-к. квартира, 68.8 м², 1/5 эт.  14000000   \n",
       "\n",
       "                  Дата  Метро/Район                                  Адрес  \\\n",
       "0  2023-05-30 23:57:51  Центральный                    ул. Тимирязева, 38В   \n",
       "1  2023-05-30 23:57:30   Хостинский    Светлана мкр, ул. Лысая Гора, 27/18   \n",
       "2  2023-05-30 23:55:56    Адлерский                     ул. Ленина, 298В/1   \n",
       "3  2023-05-30 23:55:19    Адлерский                      жилой район Адлер   \n",
       "4  2023-05-30 23:55:05  Центральный  микрорайон Заречный, Рабочий пер., 35   \n",
       "\n",
       "                                            Описание        lat        lng  \\\n",
       "0  СРОЧНАЯ ПРОДАЖА. Собственник.Торга НЕТ. Продаю...  43.629455  39.725694   \n",
       "1  Продам квартиру-студию 25кв.м в центре Сочи на...  43.582207  39.740714   \n",
       "2  Продаю студию в ЖК Касабланка!!!!!! СОБСТВЕННИ...  43.484794  39.894631   \n",
       "3  В продаже 2к.квартира, окна на две стороны, ле...  43.438172  39.911178   \n",
       "4  Срочно продается просторная трехкомнатная квар...  43.607368  39.724892   \n",
       "\n",
       "                                       Доп.параметры  \n",
       "0  Площадь кухни=5.0|Жилая площадь=0|Тип объявлен...  \n",
       "1  Площадь кухни=0|Жилая площадь=0|Тип объявления...  \n",
       "2  Тип объявления=Продам|Количество комнат=Студия...  \n",
       "3  Площадь кухни=8|Жилая площадь=29|Тип объявлени...  \n",
       "4  Площадь кухни=16|Тип объявления=Продам|Количес...  "
      ]
     },
     "execution_count": 71,
     "metadata": {},
     "output_type": "execute_result"
    }
   ],
   "source": [
    "df.head()"
   ]
  },
  {
   "cell_type": "markdown",
   "metadata": {},
   "source": [
    "Посмотрим данные на наличие дубликатов и пропусков."
   ]
  },
  {
   "cell_type": "code",
   "execution_count": 72,
   "metadata": {},
   "outputs": [
    {
     "data": {
      "text/plain": [
       "Название           0\n",
       "Цена               0\n",
       "Дата               0\n",
       "Метро/Район      940\n",
       "Адрес             44\n",
       "Описание           0\n",
       "lat                0\n",
       "lng                0\n",
       "Доп.параметры     26\n",
       "dtype: int64"
      ]
     },
     "execution_count": 72,
     "metadata": {},
     "output_type": "execute_result"
    }
   ],
   "source": [
    "df.isnull().sum()"
   ]
  },
  {
   "cell_type": "markdown",
   "metadata": {},
   "source": [
    "Посмотрим на пример графы \"Доп.параметры\"."
   ]
  },
  {
   "cell_type": "code",
   "execution_count": 73,
   "metadata": {},
   "outputs": [
    {
     "data": {
      "text/plain": [
       "'Площадь кухни=10|Жилая площадь=20|Тип объявления=Продам|Количество комнат=1|Вид объекта=Вторичка|Этаж=6|Этажей в доме=11|Площадь=46'"
      ]
     },
     "execution_count": 73,
     "metadata": {},
     "output_type": "execute_result"
    }
   ],
   "source": [
    "df['Доп.параметры'][378]"
   ]
  },
  {
   "cell_type": "markdown",
   "metadata": {},
   "source": [
    "Поскольку столбец \"Доп.параметры\" содержит важные для оценки стоимости сведения, удалим все строки с пустым содержанием этого столбца."
   ]
  },
  {
   "cell_type": "code",
   "execution_count": 74,
   "metadata": {},
   "outputs": [],
   "source": [
    "df = df.dropna(subset=['Доп.параметры'])\n"
   ]
  },
  {
   "cell_type": "code",
   "execution_count": 75,
   "metadata": {},
   "outputs": [],
   "source": [
    "df = df.drop_duplicates()"
   ]
  },
  {
   "cell_type": "code",
   "execution_count": 76,
   "metadata": {},
   "outputs": [
    {
     "name": "stdout",
     "output_type": "stream",
     "text": [
      "<class 'pandas.core.frame.DataFrame'>\n",
      "Int64Index: 34203 entries, 0 to 34232\n",
      "Data columns (total 9 columns):\n",
      " #   Column         Non-Null Count  Dtype  \n",
      "---  ------         --------------  -----  \n",
      " 0   Название       34203 non-null  object \n",
      " 1   Цена           34203 non-null  int64  \n",
      " 2   Дата           34203 non-null  object \n",
      " 3   Метро/Район    33268 non-null  object \n",
      " 4   Адрес          34164 non-null  object \n",
      " 5   Описание       34203 non-null  object \n",
      " 6   lat            34203 non-null  float64\n",
      " 7   lng            34203 non-null  float64\n",
      " 8   Доп.параметры  34203 non-null  object \n",
      "dtypes: float64(2), int64(1), object(6)\n",
      "memory usage: 2.6+ MB\n"
     ]
    }
   ],
   "source": [
    "df.info()"
   ]
  },
  {
   "cell_type": "markdown",
   "metadata": {},
   "source": [
    "Проверим разброс цен на квартиры в датасете"
   ]
  },
  {
   "cell_type": "code",
   "execution_count": 77,
   "metadata": {},
   "outputs": [
    {
     "data": {
      "text/plain": [
       "count    3.420300e+04\n",
       "mean     1.263101e+07\n",
       "std      2.774897e+07\n",
       "min      0.000000e+00\n",
       "25%      6.800000e+06\n",
       "50%      9.800000e+06\n",
       "75%      1.430000e+07\n",
       "max      4.499000e+09\n",
       "Name: Цена, dtype: float64"
      ]
     },
     "execution_count": 77,
     "metadata": {},
     "output_type": "execute_result"
    }
   ],
   "source": [
    "df['Цена'].describe()"
   ]
  },
  {
   "cell_type": "markdown",
   "metadata": {},
   "source": [
    "Медианная цена на квартиры 12,6 млн. руб., минимальная - 0, максимальная 449 млн. руб.\n",
    "Мы не будем рассматривать квартиры со стоимостью ниже 100 тыс.руб. и больше 50 млн.руб."
   ]
  },
  {
   "cell_type": "code",
   "execution_count": 78,
   "metadata": {},
   "outputs": [],
   "source": [
    "df_cleaned = df[df['Цена'] < 50000000]\n",
    "df_cleaned = df_cleaned[df_cleaned['Цена'] > 100000]"
   ]
  },
  {
   "cell_type": "code",
   "execution_count": 79,
   "metadata": {},
   "outputs": [
    {
     "data": {
      "image/png": "[encoded data removed]",
      "text/plain": [
       "<Figure size 1440x576 with 2 Axes>"
      ]
     },
     "metadata": {
      "needs_background": "light"
     },
     "output_type": "display_data"
    }
   ],
   "source": [
    "fig, axes = plt.subplots(nrows=2, ncols=1, figsize=(20, 8))\n",
    "axes[0].set_title('Распределение стоимости квартир', fontsize=16)\n",
    "sns.histplot(\n",
    "    data=df_cleaned,\n",
    "    x='Цена',\n",
    "    bins=50,\n",
    "    color='red',\n",
    "    ax=axes[0]\n",
    ");\n",
    "sns.boxplot(\n",
    "    data=df_cleaned,\n",
    "    x='Цена',\n",
    "    orient='h',\n",
    "    width=0.9  \n",
    ");"
   ]
  },
  {
   "cell_type": "markdown",
   "metadata": {},
   "source": [
    "Посмотрим на координаты объектов"
   ]
  },
  {
   "cell_type": "code",
   "execution_count": 80,
   "metadata": {},
   "outputs": [
    {
     "data": {
      "text/plain": [
       "<AxesSubplot:xlabel='lat', ylabel='lng'>"
      ]
     },
     "execution_count": 80,
     "metadata": {},
     "output_type": "execute_result"
    },
    {
     "data": {
      "image/png": "[encoded data removed]",
      "text/plain": [
       "<Figure size 432x288 with 1 Axes>"
      ]
     },
     "metadata": {
      "needs_background": "light"
     },
     "output_type": "display_data"
    }
   ],
   "source": [
    "sns.scatterplot(df_cleaned.lat, df_cleaned.lng)"
   ]
  },
  {
   "cell_type": "markdown",
   "metadata": {},
   "source": [
    "Явно присутствуют выбросы. Удалим объекты с lng < 38"
   ]
  },
  {
   "cell_type": "code",
   "execution_count": 81,
   "metadata": {},
   "outputs": [],
   "source": [
    "df_cleaned = df_cleaned[df_cleaned['lng'] > 38]"
   ]
  },
  {
   "cell_type": "code",
   "execution_count": 82,
   "metadata": {},
   "outputs": [
    {
     "data": {
      "text/plain": [
       "<AxesSubplot:xlabel='lat', ylabel='lng'>"
      ]
     },
     "execution_count": 82,
     "metadata": {},
     "output_type": "execute_result"
    },
    {
     "data": {
      "image/png": "[encoded data removed]",
      "text/plain": [
       "<Figure size 432x288 with 1 Axes>"
      ]
     },
     "metadata": {
      "needs_background": "light"
     },
     "output_type": "display_data"
    }
   ],
   "source": [
    "sns.scatterplot(df_cleaned.lat, df_cleaned.lng)"
   ]
  },
  {
   "cell_type": "markdown",
   "metadata": {},
   "source": [
    "Теперь размещение объектов соответствует визуально границам города Сочи.\n",
    "\n",
    "Поскольку все объекты имеют географические координаты, удалим столбцы, содержащие информацию об адресе и метро/район как малоинформативные.\n",
    "Также удалим дату, поскольку данные только за один год, а рынок недвижимости достаточно ригидный, и название, поскольку вся описательная информация содержится в столбце \"Доп.Информация\"."
   ]
  },
  {
   "cell_type": "code",
   "execution_count": 83,
   "metadata": {},
   "outputs": [],
   "source": [
    "df_cleaned = df_cleaned.drop(['Метро/Район', 'Адрес', 'Дата', 'Название'], axis=1)"
   ]
  },
  {
   "cell_type": "code",
   "execution_count": 84,
   "metadata": {},
   "outputs": [
    {
     "name": "stdout",
     "output_type": "stream",
     "text": [
      "<class 'pandas.core.frame.DataFrame'>\n",
      "Int64Index: 33666 entries, 0 to 34231\n",
      "Data columns (total 5 columns):\n",
      " #   Column         Non-Null Count  Dtype  \n",
      "---  ------         --------------  -----  \n",
      " 0   Цена           33666 non-null  int64  \n",
      " 1   Описание       33666 non-null  object \n",
      " 2   lat            33666 non-null  float64\n",
      " 3   lng            33666 non-null  float64\n",
      " 4   Доп.параметры  33666 non-null  object \n",
      "dtypes: float64(2), int64(1), object(2)\n",
      "memory usage: 1.5+ MB\n"
     ]
    }
   ],
   "source": [
    "df_cleaned.info()"
   ]
  },
  {
   "cell_type": "markdown",
   "metadata": {},
   "source": [
    "### 2. Разведывательный анализ EDA и feature engineering."
   ]
  },
  {
   "cell_type": "markdown",
   "metadata": {},
   "source": [
    "Посмотрим на содержимое ячейки \"Доп.параметры\" и извлечем оттуда информацию для дополнительных признаков"
   ]
  },
  {
   "cell_type": "code",
   "execution_count": 85,
   "metadata": {},
   "outputs": [
    {
     "data": {
      "text/plain": [
       "'Площадь кухни=0|Жилая площадь=0|Тип объявления=Продам|Количество комнат=Студия|Вид объекта=Вторичка|Этаж=4|Этажей в доме=4|Площадь=25.0'"
      ]
     },
     "execution_count": 85,
     "metadata": {},
     "output_type": "execute_result"
    }
   ],
   "source": [
    "df_cleaned['Доп.параметры'][1]"
   ]
  },
  {
   "cell_type": "code",
   "execution_count": 86,
   "metadata": {},
   "outputs": [],
   "source": [
    "import re\n",
    "\n",
    "def string_parser (string, word_to_find):\n",
    "    output = re.findall(word_to_find, string)\n",
    "    try:\n",
    "        return int(output[0])\n",
    "    except:\n",
    "        IndexError\n",
    "        return 0"
   ]
  },
  {
   "cell_type": "code",
   "execution_count": 87,
   "metadata": {},
   "outputs": [
    {
     "data": {
      "text/html": [
       "<div>\n",
       "<style scoped>\n",
       "    .dataframe tbody tr th:only-of-type {\n",
       "        vertical-align: middle;\n",
       "    }\n",
       "\n",
       "    .dataframe tbody tr th {\n",
       "        vertical-align: top;\n",
       "    }\n",
       "\n",
       "    .dataframe thead th {\n",
       "        text-align: right;\n",
       "    }\n",
       "</style>\n",
       "<table border=\"1\" class=\"dataframe\">\n",
       "  <thead>\n",
       "    <tr style=\"text-align: right;\">\n",
       "      <th></th>\n",
       "      <th>Цена</th>\n",
       "      <th>Описание</th>\n",
       "      <th>lat</th>\n",
       "      <th>lng</th>\n",
       "      <th>Доп.параметры</th>\n",
       "      <th>Площадь</th>\n",
       "      <th>Этажей в доме</th>\n",
       "      <th>Этаж</th>\n",
       "      <th>Количество комнат</th>\n",
       "    </tr>\n",
       "  </thead>\n",
       "  <tbody>\n",
       "    <tr>\n",
       "      <th>0</th>\n",
       "      <td>6850000</td>\n",
       "      <td>СРОЧНАЯ ПРОДАЖА. Собственник.Торга НЕТ. Продаю...</td>\n",
       "      <td>43.629455</td>\n",
       "      <td>39.725694</td>\n",
       "      <td>Площадь кухни=5.0|Жилая площадь=0|Тип объявлен...</td>\n",
       "      <td>40</td>\n",
       "      <td>4</td>\n",
       "      <td>1</td>\n",
       "      <td>2</td>\n",
       "    </tr>\n",
       "    <tr>\n",
       "      <th>1</th>\n",
       "      <td>6250000</td>\n",
       "      <td>Продам квартиру-студию 25кв.м в центре Сочи на...</td>\n",
       "      <td>43.582207</td>\n",
       "      <td>39.740714</td>\n",
       "      <td>Площадь кухни=0|Жилая площадь=0|Тип объявления...</td>\n",
       "      <td>25</td>\n",
       "      <td>4</td>\n",
       "      <td>4</td>\n",
       "      <td>0</td>\n",
       "    </tr>\n",
       "    <tr>\n",
       "      <th>2</th>\n",
       "      <td>6900000</td>\n",
       "      <td>Продаю студию в ЖК Касабланка!!!!!! СОБСТВЕННИ...</td>\n",
       "      <td>43.484794</td>\n",
       "      <td>39.894631</td>\n",
       "      <td>Тип объявления=Продам|Количество комнат=Студия...</td>\n",
       "      <td>21</td>\n",
       "      <td>3</td>\n",
       "      <td>1</td>\n",
       "      <td>0</td>\n",
       "    </tr>\n",
       "    <tr>\n",
       "      <th>3</th>\n",
       "      <td>5100000</td>\n",
       "      <td>В продаже 2к.квартира, окна на две стороны, ле...</td>\n",
       "      <td>43.438172</td>\n",
       "      <td>39.911178</td>\n",
       "      <td>Площадь кухни=8|Жилая площадь=29|Тип объявлени...</td>\n",
       "      <td>42</td>\n",
       "      <td>5</td>\n",
       "      <td>2</td>\n",
       "      <td>2</td>\n",
       "    </tr>\n",
       "    <tr>\n",
       "      <th>4</th>\n",
       "      <td>14000000</td>\n",
       "      <td>Срочно продается просторная трехкомнатная квар...</td>\n",
       "      <td>43.607368</td>\n",
       "      <td>39.724892</td>\n",
       "      <td>Площадь кухни=16|Тип объявления=Продам|Количес...</td>\n",
       "      <td>68</td>\n",
       "      <td>5</td>\n",
       "      <td>1</td>\n",
       "      <td>3</td>\n",
       "    </tr>\n",
       "    <tr>\n",
       "      <th>...</th>\n",
       "      <td>...</td>\n",
       "      <td>...</td>\n",
       "      <td>...</td>\n",
       "      <td>...</td>\n",
       "      <td>...</td>\n",
       "      <td>...</td>\n",
       "      <td>...</td>\n",
       "      <td>...</td>\n",
       "      <td>...</td>\n",
       "    </tr>\n",
       "    <tr>\n",
       "      <th>34227</th>\n",
       "      <td>9000000</td>\n",
       "      <td>Собственник Угловая 3 окна Хороший ремонт Прям...</td>\n",
       "      <td>43.567395</td>\n",
       "      <td>39.764555</td>\n",
       "      <td>Площадь кухни=0|Жилая площадь=0|Тип объявления...</td>\n",
       "      <td>36</td>\n",
       "      <td>5</td>\n",
       "      <td>1</td>\n",
       "      <td>1</td>\n",
       "    </tr>\n",
       "    <tr>\n",
       "      <th>34228</th>\n",
       "      <td>8600000</td>\n",
       "      <td>Я СОБСТВЕННИК! Продаю евро-двушку (отдельно сп...</td>\n",
       "      <td>43.625794</td>\n",
       "      <td>39.747038</td>\n",
       "      <td>Площадь кухни=3.0|Жилая площадь=37.0|Тип объяв...</td>\n",
       "      <td>42</td>\n",
       "      <td>3</td>\n",
       "      <td>3</td>\n",
       "      <td>2</td>\n",
       "    </tr>\n",
       "    <tr>\n",
       "      <th>34229</th>\n",
       "      <td>2900000</td>\n",
       "      <td>Угловая с двумя окнами .все фото свежие и прод...</td>\n",
       "      <td>43.567330</td>\n",
       "      <td>39.750550</td>\n",
       "      <td>Площадь кухни=0|Жилая площадь=0|Тип объявления...</td>\n",
       "      <td>23</td>\n",
       "      <td>3</td>\n",
       "      <td>2</td>\n",
       "      <td>1</td>\n",
       "    </tr>\n",
       "    <tr>\n",
       "      <th>34230</th>\n",
       "      <td>22000000</td>\n",
       "      <td>Я собственник, просьба звонить только по делу....</td>\n",
       "      <td>43.453612</td>\n",
       "      <td>39.949599</td>\n",
       "      <td>Площадь кухни=6|Жилая площадь=20|Тип объявлени...</td>\n",
       "      <td>48</td>\n",
       "      <td>3</td>\n",
       "      <td>3</td>\n",
       "      <td>2</td>\n",
       "    </tr>\n",
       "    <tr>\n",
       "      <th>34231</th>\n",
       "      <td>19800000</td>\n",
       "      <td>Урожайный\" — жилой комплекс из 10 домов с собс...</td>\n",
       "      <td>43.399157</td>\n",
       "      <td>40.001527</td>\n",
       "      <td>Площадь кухни=15|Жилая площадь=71|Тип объявлен...</td>\n",
       "      <td>86</td>\n",
       "      <td>10</td>\n",
       "      <td>1</td>\n",
       "      <td>3</td>\n",
       "    </tr>\n",
       "  </tbody>\n",
       "</table>\n",
       "<p>33666 rows × 9 columns</p>\n",
       "</div>"
      ],
      "text/plain": [
       "           Цена                                           Описание        lat  \\\n",
       "0       6850000  СРОЧНАЯ ПРОДАЖА. Собственник.Торга НЕТ. Продаю...  43.629455   \n",
       "1       6250000  Продам квартиру-студию 25кв.м в центре Сочи на...  43.582207   \n",
       "2       6900000  Продаю студию в ЖК Касабланка!!!!!! СОБСТВЕННИ...  43.484794   \n",
       "3       5100000  В продаже 2к.квартира, окна на две стороны, ле...  43.438172   \n",
       "4      14000000  Срочно продается просторная трехкомнатная квар...  43.607368   \n",
       "...         ...                                                ...        ...   \n",
       "34227   9000000  Собственник Угловая 3 окна Хороший ремонт Прям...  43.567395   \n",
       "34228   8600000  Я СОБСТВЕННИК! Продаю евро-двушку (отдельно сп...  43.625794   \n",
       "34229   2900000  Угловая с двумя окнами .все фото свежие и прод...  43.567330   \n",
       "34230  22000000  Я собственник, просьба звонить только по делу....  43.453612   \n",
       "34231  19800000  Урожайный\" — жилой комплекс из 10 домов с собс...  43.399157   \n",
       "\n",
       "             lng                                      Доп.параметры  Площадь  \\\n",
       "0      39.725694  Площадь кухни=5.0|Жилая площадь=0|Тип объявлен...       40   \n",
       "1      39.740714  Площадь кухни=0|Жилая площадь=0|Тип объявления...       25   \n",
       "2      39.894631  Тип объявления=Продам|Количество комнат=Студия...       21   \n",
       "3      39.911178  Площадь кухни=8|Жилая площадь=29|Тип объявлени...       42   \n",
       "4      39.724892  Площадь кухни=16|Тип объявления=Продам|Количес...       68   \n",
       "...          ...                                                ...      ...   \n",
       "34227  39.764555  Площадь кухни=0|Жилая площадь=0|Тип объявления...       36   \n",
       "34228  39.747038  Площадь кухни=3.0|Жилая площадь=37.0|Тип объяв...       42   \n",
       "34229  39.750550  Площадь кухни=0|Жилая площадь=0|Тип объявления...       23   \n",
       "34230  39.949599  Площадь кухни=6|Жилая площадь=20|Тип объявлени...       48   \n",
       "34231  40.001527  Площадь кухни=15|Жилая площадь=71|Тип объявлен...       86   \n",
       "\n",
       "       Этажей в доме  Этаж  Количество комнат  \n",
       "0                  4     1                  2  \n",
       "1                  4     4                  0  \n",
       "2                  3     1                  0  \n",
       "3                  5     2                  2  \n",
       "4                  5     1                  3  \n",
       "...              ...   ...                ...  \n",
       "34227              5     1                  1  \n",
       "34228              3     3                  2  \n",
       "34229              3     2                  1  \n",
       "34230              3     3                  2  \n",
       "34231             10     1                  3  \n",
       "\n",
       "[33666 rows x 9 columns]"
      ]
     },
     "execution_count": 87,
     "metadata": {},
     "output_type": "execute_result"
    }
   ],
   "source": [
    "df_cleaned['Площадь'] = df_cleaned['Доп.параметры'].apply(string_parser, word_to_find='Площадь=(\\d+)')\n",
    "df_cleaned['Этажей в доме'] = df_cleaned['Доп.параметры'].apply(string_parser, word_to_find='Этажей в доме=(\\d+)')\n",
    "df_cleaned['Этаж'] = df_cleaned['Доп.параметры'].apply(string_parser, word_to_find='Этаж=(\\d+)')\n",
    "df_cleaned['Количество комнат'] = df_cleaned['Доп.параметры'].apply(string_parser, word_to_find='Количество комнат=(\\d+)')\n",
    "df_cleaned"
   ]
  },
  {
   "cell_type": "code",
   "execution_count": 88,
   "metadata": {},
   "outputs": [
    {
     "name": "stdout",
     "output_type": "stream",
     "text": [
      "<class 'pandas.core.frame.DataFrame'>\n",
      "Int64Index: 33666 entries, 0 to 34231\n",
      "Data columns (total 9 columns):\n",
      " #   Column             Non-Null Count  Dtype  \n",
      "---  ------             --------------  -----  \n",
      " 0   Цена               33666 non-null  int64  \n",
      " 1   Описание           33666 non-null  object \n",
      " 2   lat                33666 non-null  float64\n",
      " 3   lng                33666 non-null  float64\n",
      " 4   Доп.параметры      33666 non-null  object \n",
      " 5   Площадь            33666 non-null  int64  \n",
      " 6   Этажей в доме      33666 non-null  int64  \n",
      " 7   Этаж               33666 non-null  int64  \n",
      " 8   Количество комнат  33666 non-null  int64  \n",
      "dtypes: float64(2), int64(5), object(2)\n",
      "memory usage: 3.6+ MB\n"
     ]
    }
   ],
   "source": [
    "df_cleaned.info()"
   ]
  },
  {
   "cell_type": "markdown",
   "metadata": {},
   "source": [
    "Очевидно, что сравнивать квартиры по стоимости надо на основании цены за квадратный метр. Введем признак \"Цена за ед\". \n"
   ]
  },
  {
   "cell_type": "code",
   "execution_count": 89,
   "metadata": {},
   "outputs": [],
   "source": [
    "df_cleaned['Цена за ед.'] = round(df_cleaned['Цена'] / df_cleaned['Площадь'])"
   ]
  },
  {
   "cell_type": "code",
   "execution_count": 90,
   "metadata": {},
   "outputs": [],
   "source": [
    "df_cleaned = df_cleaned.drop(['Цена', 'Описание', 'Доп.параметры'], axis=1)"
   ]
  },
  {
   "cell_type": "markdown",
   "metadata": {},
   "source": [
    "Разделим город на кластеры по средней стоимости недвижимости."
   ]
  },
  {
   "cell_type": "code",
   "execution_count": 91,
   "metadata": {},
   "outputs": [
    {
     "data": {
      "text/plain": [
       "<AxesSubplot:xlabel='lat', ylabel='lng'>"
      ]
     },
     "execution_count": 91,
     "metadata": {},
     "output_type": "execute_result"
    },
    {
     "data": {
      "image/png": "[encoded data removed]",
      "text/plain": [
       "<Figure size 432x288 with 1 Axes>"
      ]
     },
     "metadata": {
      "needs_background": "light"
     },
     "output_type": "display_data"
    }
   ],
   "source": [
    "from sklearn.cluster import DBSCAN\n",
    "\n",
    "#запускаем кластеризацию на наших данных\n",
    "clustering = DBSCAN(eps=0.07, min_samples=4).fit(df_cleaned[['lat', 'lng']])\n",
    "\n",
    "# Далее можно визуализировать результаты, как мы делали с алгоритмом k-means\n",
    "sns.scatterplot(x=df_cleaned.lat, y=df_cleaned.lng, c=clustering.labels_, hue=clustering.labels_)"
   ]
  },
  {
   "cell_type": "code",
   "execution_count": 92,
   "metadata": {},
   "outputs": [],
   "source": [
    "df_cleaned['cluster'] = clustering.labels_"
   ]
  },
  {
   "cell_type": "code",
   "execution_count": 93,
   "metadata": {},
   "outputs": [
    {
     "data": {
      "text/plain": [
       " 0    31876\n",
       " 1      943\n",
       " 2      802\n",
       " 3       21\n",
       " 4       16\n",
       "-1        8\n",
       "Name: cluster, dtype: int64"
      ]
     },
     "execution_count": 93,
     "metadata": {},
     "output_type": "execute_result"
    }
   ],
   "source": [
    "df_cleaned['cluster'].value_counts()"
   ]
  },
  {
   "cell_type": "code",
   "execution_count": 94,
   "metadata": {},
   "outputs": [
    {
     "data": {
      "image/png": "[encoded data removed]",
      "text/plain": [
       "<Figure size 1080x288 with 2 Axes>"
      ]
     },
     "metadata": {
      "needs_background": "light"
     },
     "output_type": "display_data"
    }
   ],
   "source": [
    "fig, axes = plt.subplots(nrows=1, ncols=2, figsize=(15, 4))\n",
    "df_cleaned.groupby(['cluster'])['Цена за ед.'].median().plot(\n",
    "    ax=axes[0],\n",
    "    kind='bar', \n",
    "    title= ('Медианная стоимость 1 кв.м. недвижимости по кластерам'),\n",
    "    color=('darkblue', 'red'),\n",
    "    );\n",
    "df_cleaned.groupby(['cluster'])['Цена за ед.'].count().plot(\n",
    "    ax=axes[1],\n",
    "    kind='bar', \n",
    "    title= ('Количество обЪектов по кластерам'),\n",
    "    color=('darkblue', 'red'),\n",
    "    );"
   ]
  },
  {
   "cell_type": "code",
   "execution_count": 95,
   "metadata": {},
   "outputs": [
    {
     "data": {
      "image/png": "[encoded data removed]",
      "text/plain": [
       "<Figure size 720x360 with 2 Axes>"
      ]
     },
     "metadata": {
      "needs_background": "light"
     },
     "output_type": "display_data"
    }
   ],
   "source": [
    "plt.figure(figsize = (10, 5))\n",
    "sns.heatmap(df_cleaned.corr(), annot = True);"
   ]
  },
  {
   "cell_type": "markdown",
   "metadata": {},
   "source": [
    "#### Стоимость недвижимоси зависит от нахождения в кластере?"
   ]
  },
  {
   "cell_type": "markdown",
   "metadata": {},
   "source": [
    "Нулевая гипотеза: стоимость кв.м. недвижимости не зависит от нахождения в определенном кластере.\n",
    "\n",
    "Альтернативная гипотеза: зависимость есть.\n",
    "\n",
    "**Проверка на нормальность**\n",
    "\n",
    "С помощью теста Шапиро-Уилка проверим, распределён ли признак нормально."
   ]
  },
  {
   "cell_type": "code",
   "execution_count": 96,
   "metadata": {},
   "outputs": [
    {
     "name": "stdout",
     "output_type": "stream",
     "text": [
      "Уровень значимости alpha = 0.05\n"
     ]
    }
   ],
   "source": [
    "# задаём уровень значимости\n",
    "alpha = 0.05 \n",
    "print(\"Уровень значимости alpha = {:.2f}\".format(alpha))"
   ]
  },
  {
   "cell_type": "code",
   "execution_count": 97,
   "metadata": {},
   "outputs": [],
   "source": [
    "# функция для принятия решения о нормальности\n",
    "def decision_normality(p):\n",
    "    print('p-value = {:.3f}'.format(p))\n",
    "    if p <= alpha:\n",
    "        print('p-значение меньше, чем заданный уровень значимости {:.2f}. Распределение отлично от нормального'.format(alpha))\n",
    "    else:\n",
    "        print('p-значение больше, чем заданный уровень значимости {:.2f}. Распределение является нормальным'.format(alpha))\n",
    "\n",
    "\n",
    "# функция для принятия решения об отклонении нулевой гипотезы\n",
    "def decision_hypothesis(p):\n",
    "    print('p-value = {:.3f}'.format(p))\n",
    "    if p <= alpha:\n",
    "        print('p-значение меньше, чем заданный уровень значимости {:.2f}. Отвергаем нулевую гипотезу в пользу альтернативной.'.format(alpha))\n",
    "    else:\n",
    "        print('p-значение больше, чем заданный уровень значимости {:.2f}. У нас нет оснований отвергнуть нулевую гипотезу.'.format(alpha))\n",
    "      "
   ]
  },
  {
   "cell_type": "code",
   "execution_count": 98,
   "metadata": {},
   "outputs": [
    {
     "name": "stdout",
     "output_type": "stream",
     "text": [
      "Для кластера 0:\n",
      "p-value = 0.000\n",
      "p-значение меньше, чем заданный уровень значимости 0.05. Распределение отлично от нормального\n",
      "Для кластера 1:\n",
      "p-value = 0.000\n",
      "p-значение меньше, чем заданный уровень значимости 0.05. Распределение отлично от нормального\n",
      "Для кластера 2:\n",
      "p-value = 0.000\n",
      "p-значение меньше, чем заданный уровень значимости 0.05. Распределение отлично от нормального\n",
      "Для кластера 3:\n",
      "p-value = 0.000\n",
      "p-значение меньше, чем заданный уровень значимости 0.05. Распределение отлично от нормального\n",
      "Для кластера 4:\n",
      "p-value = 0.081\n",
      "p-значение больше, чем заданный уровень значимости 0.05. Распределение является нормальным\n"
     ]
    }
   ],
   "source": [
    "cluster_0 = df_cleaned.loc[df_cleaned['cluster'] == 0 , 'Цена за ед.']\n",
    "cluster_1 = df_cleaned.loc[df_cleaned['cluster'] == 1 , 'Цена за ед.']\n",
    "cluster_2 = df_cleaned.loc[df_cleaned['cluster'] == 2 , 'Цена за ед.']\n",
    "cluster_3 = df_cleaned.loc[df_cleaned['cluster'] == 3 , 'Цена за ед.']\n",
    "cluster_4 = df_cleaned.loc[df_cleaned['cluster'] == 4 , 'Цена за ед.']\n",
    "\n",
    "# проводим тест Шапиро-Уилка\n",
    "print('Для кластера 0:')\n",
    "result = stats.shapiro(cluster_0)\n",
    "decision_normality(result[1])\n",
    "\n",
    "print('Для кластера 1:')\n",
    "result = stats.shapiro(cluster_1)\n",
    "decision_normality(result[1])\n",
    "\n",
    "print('Для кластера 2:')\n",
    "result = stats.shapiro(cluster_2)\n",
    "decision_normality(result[1])\n",
    "\n",
    "print('Для кластера 3:')\n",
    "result = stats.shapiro(cluster_3)\n",
    "decision_normality(result[1])\n",
    "\n",
    "print('Для кластера 4:')\n",
    "result = stats.shapiro(cluster_4)\n",
    "decision_normality(result[1])"
   ]
  },
  {
   "cell_type": "markdown",
   "metadata": {},
   "source": [
    "\n",
    "Для проверки нашей гипотезы можно использовать критерий Краскела — Уоллиса.\n",
    "\n",
    "**Проведём тест**"
   ]
  },
  {
   "cell_type": "code",
   "execution_count": 99,
   "metadata": {},
   "outputs": [
    {
     "name": "stdout",
     "output_type": "stream",
     "text": [
      "p-value = 0.000\n",
      "p-значение меньше, чем заданный уровень значимости 0.05. Отвергаем нулевую гипотезу в пользу альтернативной.\n"
     ]
    }
   ],
   "source": [
    "_, p = stats.kruskal(cluster_0, cluster_1, cluster_2, cluster_3, cluster_4)\n",
    "decision_hypothesis(p)"
   ]
  },
  {
   "cell_type": "markdown",
   "metadata": {},
   "source": [
    "### 3. Отбор и кодирование признаков"
   ]
  },
  {
   "cell_type": "code",
   "execution_count": 100,
   "metadata": {},
   "outputs": [],
   "source": [
    "from sklearn.preprocessing import OneHotEncoder\n",
    "\n",
    "one_hot_encoder = OneHotEncoder(drop='first')# Получаем закодированные имена столбцов\n",
    "columns_to_change = ['Этажей в доме', 'Этаж', 'Количество комнат', 'cluster']\n",
    "\n",
    "data_onehot = one_hot_encoder.fit_transform(df_cleaned[columns_to_change]).toarray()\n",
    "column_names = one_hot_encoder.get_feature_names_out()\n",
    "# Составляем DataFrame из закодированных признаков\n",
    "data_onehot = pd.DataFrame(data_onehot, columns=column_names)"
   ]
  },
  {
   "cell_type": "code",
   "execution_count": 102,
   "metadata": {},
   "outputs": [
    {
     "name": "stdout",
     "output_type": "stream",
     "text": [
      "Shape of data: (33666, 74)\n"
     ]
    }
   ],
   "source": [
    "train_data = pd.concat(\n",
    "    [df_cleaned.reset_index(drop=True).drop(columns_to_change, axis=1), data_onehot], \n",
    "    axis=1\n",
    ")\n",
    "print('Shape of data: {}'.format(train_data.shape))"
   ]
  },
  {
   "cell_type": "markdown",
   "metadata": {},
   "source": [
    "Cформируем матрицу наблюдений X, вектор целевой переменной y"
   ]
  },
  {
   "cell_type": "code",
   "execution_count": 103,
   "metadata": {},
   "outputs": [],
   "source": [
    "X = train_data.drop(['Цена за ед.'], axis=1)\n",
    "y = train_data['Цена за ед.']"
   ]
  },
  {
   "cell_type": "markdown",
   "metadata": {},
   "source": [
    "Разобьем выборку на обучающую и валидационную в соотношении 80/20:"
   ]
  },
  {
   "cell_type": "code",
   "execution_count": 105,
   "metadata": {},
   "outputs": [],
   "source": [
    "from sklearn import model_selection\n",
    "X_train, X_valid, y_train, y_valid = model_selection.train_test_split(\n",
    "    X, y, \n",
    "    test_size=0.20, \n",
    "    random_state=42\n",
    ")"
   ]
  },
  {
   "cell_type": "markdown",
   "metadata": {},
   "source": [
    "Выберем признаки, которые имеют влияние на предсказание целевой переменной."
   ]
  },
  {
   "cell_type": "code",
   "execution_count": 109,
   "metadata": {},
   "outputs": [
    {
     "data": {
      "text/plain": [
       "Index(['lat', 'lng', 'Площадь', 'Этажей в доме_2', 'Этажей в доме_3',\n",
       "       'Этажей в доме_4', 'Этажей в доме_9', 'Этажей в доме_13',\n",
       "       'Этажей в доме_14', 'Этажей в доме_15', 'Этажей в доме_17',\n",
       "       'Этажей в доме_19', 'Этажей в доме_21', 'Этажей в доме_23',\n",
       "       'Этажей в доме_24', 'Этажей в доме_30', 'Этаж_2', 'Этаж_4', 'Этаж_13',\n",
       "       'Этаж_14', 'Этаж_18', 'Количество комнат_3', 'Количество комнат_5',\n",
       "       'cluster_1', 'cluster_2'],\n",
       "      dtype='object')"
      ]
     },
     "execution_count": 109,
     "metadata": {},
     "output_type": "execute_result"
    }
   ],
   "source": [
    "from sklearn.feature_selection import SelectKBest, f_regression\n",
    "\n",
    "selector = SelectKBest(f_regression, k='all')\n",
    "selector.fit(X_train, y_train)\n",
    " \n",
    "selector.get_feature_names_out()\n",
    "\n",
    "features_to_use = list(selector.get_feature_names_out())\n",
    "features_to_use\n",
    "\n",
    "for n in X_train.columns:\n",
    "    if n not in features_to_use:\n",
    "        X_train = X_train.drop(columns=n)\n",
    "        X_valid = X_valid.drop(columns=n)\n",
    "        \n",
    "X_train.columns\n"
   ]
  },
  {
   "cell_type": "markdown",
   "metadata": {},
   "source": [
    "Нормализуем предикторы."
   ]
  },
  {
   "cell_type": "code",
   "execution_count": 110,
   "metadata": {},
   "outputs": [],
   "source": [
    "from sklearn.preprocessing import MinMaxScaler\n",
    "scaler = MinMaxScaler()\n",
    "col_names = ['lat', 'lng', 'Площадь']\n",
    " \n",
    "x = X_train[col_names]\n",
    "scaler.fit(x.values)\n",
    "X_train[col_names] = scaler.transform(X_train[col_names].values)\n",
    "X_valid[col_names] = scaler.transform(X_valid[col_names].values)"
   ]
  },
  {
   "cell_type": "markdown",
   "metadata": {},
   "source": [
    "### 4. Решение задачи регрессии"
   ]
  },
  {
   "cell_type": "code",
   "execution_count": 113,
   "metadata": {},
   "outputs": [
    {
     "name": "stdout",
     "output_type": "stream",
     "text": [
      "Train MSE: 366592.594\n",
      "Valid MSE: 491742.378\n"
     ]
    }
   ],
   "source": [
    "#Создаём объект класса LinearRegression\n",
    "lr_model = linear_model.LinearRegression()\n",
    "#Обучаем модель по МНК\n",
    "lr_model.fit(X_train, y_train)\n",
    " \n",
    "#Делаем предсказание для тренировочной выборки\n",
    "y_train_predict = lr_model.predict(X_train)\n",
    "#Делаем предсказание для тестовой выборки\n",
    "y_valid_predict = lr_model.predict(X_valid)\n",
    " \n",
    "print(\"Train MSE: {:.3f}\".format(np.sqrt(metrics.mean_squared_error(y_train, y_train_predict))))\n",
    "print(\"Valid MSE: {:.3f}\".format(np.sqrt(metrics.mean_squared_error(y_valid, y_valid_predict))))"
   ]
  },
  {
   "cell_type": "code",
   "execution_count": 114,
   "metadata": {},
   "outputs": [
    {
     "name": "stdout",
     "output_type": "stream",
     "text": [
      "Train MSE: 334602.183\n",
      "Valid MSE: 484634.210\n"
     ]
    }
   ],
   "source": [
    "poly = preprocessing.PolynomialFeatures(degree=2, include_bias=False)\n",
    "poly.fit(X_train)\n",
    "#Генерируем полиномиальные признаки для тренировочной выборки\n",
    "X_train_poly = poly.transform(X_train)\n",
    "#Генерируем полиномиальные признаки для тестовой выборки\n",
    "X_valid_poly = poly.transform(X_valid)\n",
    "lr_model_poly = linear_model.LinearRegression()\n",
    "#Обучаем модель по МНК\n",
    "lr_model_poly.fit(X_train_poly, y_train)\n",
    "#Делаем предсказание для тренировочной выборки\n",
    "y_train_predict_poly = lr_model_poly.predict(X_train_poly)\n",
    "#Делаем предсказание для тестовой выборки\n",
    "y_valid_predict_poly = lr_model_poly.predict(X_valid_poly)\n",
    "\n",
    "print(\"Train MSE: {:.3f}\".format(np.sqrt(metrics.mean_squared_error(y_train, y_train_predict_poly))))\n",
    "print(\"Valid MSE: {:.3f}\".format(np.sqrt(metrics.mean_squared_error(y_valid, y_valid_predict_poly))))"
   ]
  },
  {
   "cell_type": "code",
   "execution_count": 115,
   "metadata": {},
   "outputs": [
    {
     "name": "stdout",
     "output_type": "stream",
     "text": [
      "Train MSE: 103541.268\n",
      "Valid MSE: 283608.716\n"
     ]
    }
   ],
   "source": [
    "#Создаём объект класса DecisionTreeClassifier\n",
    "dt_reg_2d = tree.DecisionTreeRegressor(random_state=42, max_depth=11)\n",
    "#Обучаем дерево решений по алгоритму CART\n",
    "dt_reg_2d.fit(X_train, y_train)\n",
    "\n",
    "#Делаем предсказание для тренировочной выборки\n",
    "y_train_predict = dt_reg_2d.predict(X_train)\n",
    "#Делаем предсказание для тестовой выборки\n",
    "y_valid_predict = dt_reg_2d.predict(X_valid)\n",
    " \n",
    "print(\"Train MSE: {:.3f}\".format(np.sqrt(metrics.mean_squared_error(y_train, y_train_predict))))\n",
    "print(\"Valid MSE: {:.3f}\".format(np.sqrt(metrics.mean_squared_error(y_valid, y_valid_predict))))"
   ]
  },
  {
   "cell_type": "code",
   "execution_count": 117,
   "metadata": {},
   "outputs": [
    {
     "name": "stdout",
     "output_type": "stream",
     "text": [
      "CPU times: total: 4.27 s\n",
      "Wall time: 4.35 s\n",
      "Наилучшие значения гиперпараметров: {'max_depth': 7}\n",
      "Train MSE: 103541.268\n",
      "Valid MSE: 283608.716\n"
     ]
    }
   ],
   "source": [
    "# подберите оптимальные параметры с помощью gridsearch\n",
    "from sklearn.model_selection import GridSearchCV\n",
    "\n",
    "param_grid = {'max_depth':list(range(7, 20, 1))\n",
    "              }\n",
    "grid_search = GridSearchCV(\n",
    "    tree.DecisionTreeRegressor(random_state=42),\n",
    "    param_grid=param_grid \n",
    ")  \n",
    "%time grid_search.fit(X_train, y_train) \n",
    "y_train_pred = grid_search.predict(X_train)\n",
    "y_valid_pred = grid_search.predict(X_valid)\n",
    "print(\"Наилучшие значения гиперпараметров: {}\".format(grid_search.best_params_))\n",
    "print(\"Train MSE: {:.3f}\".format(np.sqrt(metrics.mean_squared_error(y_train, y_train_predict))))\n",
    "print(\"Valid MSE: {:.3f}\".format(np.sqrt(metrics.mean_squared_error(y_valid, y_valid_predict))))"
   ]
  },
  {
   "cell_type": "code",
   "execution_count": 134,
   "metadata": {},
   "outputs": [
    {
     "name": "stdout",
     "output_type": "stream",
     "text": [
      "[0]\ttrain-rmse:347803.95120\tvalid-rmse:468174.62779\n",
      "[10]\ttrain-rmse:208806.32201\tvalid-rmse:326630.84216\n",
      "[20]\ttrain-rmse:165831.32374\tvalid-rmse:278574.95928\n",
      "[30]\ttrain-rmse:146372.11687\tvalid-rmse:261490.57179\n",
      "[40]\ttrain-rmse:135458.18294\tvalid-rmse:255929.86572\n",
      "[50]\ttrain-rmse:127063.30428\tvalid-rmse:251760.14123\n",
      "[60]\ttrain-rmse:121520.18680\tvalid-rmse:249379.76043\n",
      "[70]\ttrain-rmse:116500.54242\tvalid-rmse:247701.58658\n",
      "[80]\ttrain-rmse:113005.05216\tvalid-rmse:247409.48557\n",
      "[90]\ttrain-rmse:109710.17207\tvalid-rmse:246484.88610\n",
      "[100]\ttrain-rmse:107050.35364\tvalid-rmse:246569.22451\n",
      "[110]\ttrain-rmse:104624.30694\tvalid-rmse:246162.21663\n",
      "[120]\ttrain-rmse:102499.20583\tvalid-rmse:246157.76645\n",
      "[130]\ttrain-rmse:100977.40379\tvalid-rmse:246391.25359\n",
      "[140]\ttrain-rmse:99557.58050\tvalid-rmse:247272.98596\n",
      "[150]\ttrain-rmse:98135.88117\tvalid-rmse:247867.43615\n",
      "[157]\ttrain-rmse:97425.20491\tvalid-rmse:248282.84295\n"
     ]
    }
   ],
   "source": [
    "import xgboost as xgb\n",
    "\n",
    "dtrain = xgb.DMatrix(X_train, label=y_train, feature_names=features_to_use)\n",
    "dvalid = xgb.DMatrix(X_valid, label=y_valid, feature_names=features_to_use)\n",
    "\n",
    "xgb_pars = {'min_child_weight': 1, 'eta': 0.1, 'colsample_bytree': 0.9, \n",
    "            'max_depth': 5, 'subsample': 0.9, 'lambda': 1, 'nthread': -1, \n",
    "            'booster' : 'gbtree', 'eval_metric': 'rmse', 'objective': 'reg:squarederror'\n",
    "           }\n",
    "watchlist = [(dtrain, 'train'), (dvalid, 'valid')]\n",
    "# Обучаем модель XGBoost\n",
    "modelXGB = xgb.train(\n",
    "    params=xgb_pars, \n",
    "    dtrain=dtrain, \n",
    "    num_boost_round=400, \n",
    "    evals=watchlist, \n",
    "    early_stopping_rounds=40,\n",
    "    maximize=False, \n",
    "    verbose_eval=10 \n",
    ")"
   ]
  },
  {
   "cell_type": "code",
   "execution_count": 137,
   "metadata": {},
   "outputs": [
    {
     "name": "stdout",
     "output_type": "stream",
     "text": [
      "Train MSE: 223286.445\n",
      "Valid MSE: 326273.390\n"
     ]
    }
   ],
   "source": [
    "rf_rgr = ensemble.RandomForestRegressor(\n",
    "    n_estimators=500, \n",
    "    criterion='squared_error', \n",
    "    max_depth=8, \n",
    "    max_features='sqrt',\n",
    "    random_state=42, \n",
    "    min_samples_leaf=10\n",
    ")\n",
    "\n",
    "rf_rgr.fit(X_train, y_train)\n",
    "\n",
    "#Делаем предсказание для тренировочной выборки\n",
    "y_train_predict = rf_rgr.predict(X_train)\n",
    "#Делаем предсказание для тестовой выборки\n",
    "y_valid_predict = rf_rgr.predict(X_valid)\n",
    " \n",
    "print(\"Train MSE: {:.3f}\".format(np.sqrt(metrics.mean_squared_error(y_train, y_train_predict))))\n",
    "print(\"Valid MSE: {:.3f}\".format(np.sqrt(metrics.mean_squared_error(y_valid, y_valid_predict))))\n"
   ]
  },
  {
   "cell_type": "code",
   "execution_count": 143,
   "metadata": {},
   "outputs": [
    {
     "data": {
      "image/png": "[encoded data removed]",
      "text/plain": [
       "<Figure size 1224x432 with 1 Axes>"
      ]
     },
     "metadata": {
      "needs_background": "light"
     },
     "output_type": "display_data"
    }
   ],
   "source": [
    "fig, ax = plt.subplots(figsize=(17, 6)) #фигура + координатная плоскость\n",
    "feature = X_train.columns #признаки\n",
    "feature_importances = rf_rgr.feature_importances_ #важность признаков\n",
    "#Строим столбчатую диаграмму\n",
    "sns.barplot(y=feature, x=feature_importances);\n",
    "#Добавляем подпись графику, осям абцисс и ординат\n",
    "ax.set_title('Bar plot feature importances')\n",
    "ax.set_xlabel('Features')\n",
    "ax.set_ylabel('Importances');"
   ]
  },
  {
   "cell_type": "markdown",
   "metadata": {},
   "source": [
    "Наиболее важными параметрами, влияющими на стоимость квадратного метра недвижимости, является ее расположение, площадь квартиры, высотность дома и высокий этаж, что может указывать на то, что это новый дом.\n",
    "\n",
    "Наименьшее значение метрики MSE было получено при использовании модели машинного обучения XGBoost."
   ]
  },
  {
   "cell_type": "markdown",
   "metadata": {},
   "source": [
    "# 5. Тестирование\n",
    "Выгрузим из базы свежие объявления \n",
    "с 01.06.24 по 08.06.24 для тестовой выборки\n",
    "\n",
    "Протестируем модель оценки стоимости квартир в г.Сочи на лучшей модели XGBoost."
   ]
  },
  {
   "cell_type": "code",
   "execution_count": 383,
   "metadata": {},
   "outputs": [],
   "source": [
    "# напишем функцию для корректной кластеризации тестовых объявлений\n",
    "\n",
    "cluster_def = df_cleaned.groupby('cluster')['lat', 'lng'].agg(['min', 'max'])\n",
    "cluster_def.columns = cluster_def.columns.to_flat_index()\n",
    "cluster_def['cluster'] = cluster_def.index\n",
    "cluster_def.reset_index(drop=True)"
   ]
  },
  {
   "cell_type": "code",
   "execution_count": 387,
   "metadata": {},
   "outputs": [],
   "source": [
    "def clusterisation(lat_n, lng_n):\n",
    "    \n",
    "    for n in range (len(cluster_def)-1):\n",
    "        if cluster_def[('lat', 'min')][n] < lat_n < cluster_def[('lat', 'max')][n] and cluster_def[('lng', 'min')][n] < lng_n < cluster_def[('lng', 'max')][n]:\n",
    "            cluster_n = cluster_def['cluster'][n]\n",
    "            return cluster_n\n",
    "        \n",
    "        else:\n",
    "            cluster_n = -1\n",
    "    \n",
    "            return cluster_n"
   ]
  },
  {
   "cell_type": "code",
   "execution_count": 429,
   "metadata": {},
   "outputs": [],
   "source": [
    "df_test = pd.read_csv('sochi_flats_test.csv', sep = ';')"
   ]
  },
  {
   "cell_type": "code",
   "execution_count": 432,
   "metadata": {},
   "outputs": [],
   "source": [
    "df_test = df_test.drop(drop_columns, axis=1)\n",
    "df_test = df_test.dropna(subset=['Доп.параметры'])\n",
    "df_test = df_test.drop_duplicates()\n",
    "df_test = df_test[df_test['Цена'] < 50000000]\n",
    "df_test = df_test[df_test['Цена'] > 1000000]\n",
    "df_test = df_test.drop(['Метро/Район', 'Адрес', 'Дата', 'Название'], axis=1)"
   ]
  },
  {
   "cell_type": "code",
   "execution_count": 433,
   "metadata": {},
   "outputs": [],
   "source": [
    "df_test['Площадь'] = df_test['Доп.параметры'].apply(string_parser, word_to_find='Площадь=(\\d+)')\n",
    "df_test['Этажей в доме'] = df_test['Доп.параметры'].apply(string_parser, word_to_find='Этажей в доме=(\\d+)')\n",
    "df_test['Этаж'] = df_test['Доп.параметры'].apply(string_parser, word_to_find='Этаж=(\\d+)')\n",
    "df_test['Количество комнат'] = df_test['Доп.параметры'].apply(string_parser, word_to_find='Количество комнат=(\\d+)')\n",
    "df_test = df_test[df_test['Площадь'] > 0]"
   ]
  },
  {
   "cell_type": "code",
   "execution_count": 434,
   "metadata": {},
   "outputs": [],
   "source": [
    "df_test['Цена за ед.'] = round(df_test['Цена'] / df_test['Площадь'])\n",
    "df_test = df_test.drop(['Цена', 'Описание', 'Доп.параметры'], axis=1)"
   ]
  },
  {
   "cell_type": "code",
   "execution_count": 435,
   "metadata": {},
   "outputs": [],
   "source": [
    "df_test['cluster'] = df_test.apply(lambda x: clusterisation(x.lat, x.lng), axis=1)"
   ]
  },
  {
   "cell_type": "code",
   "execution_count": 436,
   "metadata": {},
   "outputs": [],
   "source": [
    "data_onehot_test = one_hot_encoder.fit_transform(df_test[columns_to_change]).toarray()\n",
    "column_names = one_hot_encoder.get_feature_names_out()\n",
    "# Составляем DataFrame из закодированных признаков\n",
    "data_onehot_test = pd.DataFrame(data_onehot_test, columns=column_names)\n",
    "test_data = pd.concat(\n",
    "    [df_test.reset_index(drop=True).drop(columns_to_change, axis=1), data_onehot_test], \n",
    "    axis=1\n",
    ")\n"
   ]
  },
  {
   "cell_type": "code",
   "execution_count": 437,
   "metadata": {},
   "outputs": [],
   "source": [
    "X_test = test_data.drop(['Цена за ед.'], axis=1)\n",
    "y_test = test_data['Цена за ед.']"
   ]
  },
  {
   "cell_type": "code",
   "execution_count": 438,
   "metadata": {},
   "outputs": [
    {
     "data": {
      "text/plain": [
       "Index(['lat', 'lng', 'Площадь', 'Этажей в доме_2', 'Этажей в доме_3',\n",
       "       'Этажей в доме_4', 'Этажей в доме_9', 'Этажей в доме_13',\n",
       "       'Этажей в доме_14', 'Этажей в доме_15', 'Этажей в доме_17',\n",
       "       'Этажей в доме_19', 'Этажей в доме_21', 'Этажей в доме_23',\n",
       "       'Этажей в доме_24', 'Этаж_2', 'Этаж_4', 'Этаж_13', 'Этаж_14',\n",
       "       'Количество комнат_3', 'Количество комнат_5'],\n",
       "      dtype='object')"
      ]
     },
     "execution_count": 438,
     "metadata": {},
     "output_type": "execute_result"
    }
   ],
   "source": [
    "for n in X_test.columns:\n",
    "    if n not in features_to_use:\n",
    "        X_test = X_test.drop(columns=n)\n",
    "               \n",
    "X_test.columns"
   ]
  },
  {
   "cell_type": "code",
   "execution_count": 439,
   "metadata": {},
   "outputs": [
    {
     "data": {
      "text/plain": [
       "Index(['lat', 'lng', 'Площадь', 'Этажей в доме_2', 'Этажей в доме_3',\n",
       "       'Этажей в доме_4', 'Этажей в доме_9', 'Этажей в доме_13',\n",
       "       'Этажей в доме_14', 'Этажей в доме_15', 'Этажей в доме_17',\n",
       "       'Этажей в доме_19', 'Этажей в доме_21', 'Этажей в доме_23',\n",
       "       'Этажей в доме_24', 'Этаж_2', 'Этаж_4', 'Этаж_13', 'Этаж_14',\n",
       "       'Количество комнат_3', 'Количество комнат_5', 'Этажей в доме_30',\n",
       "       'Этаж_18', 'cluster_1', 'cluster_2'],\n",
       "      dtype='object')"
      ]
     },
     "execution_count": 439,
     "metadata": {},
     "output_type": "execute_result"
    }
   ],
   "source": [
    "for n in features_to_use:\n",
    "    if n not in X_test.columns:\n",
    "        X_test[n] = 0\n",
    "               \n",
    "X_test.columns"
   ]
  },
  {
   "cell_type": "code",
   "execution_count": 440,
   "metadata": {},
   "outputs": [],
   "source": [
    "X_test[col_names] = scaler.transform(X_test[col_names].values)"
   ]
  },
  {
   "cell_type": "code",
   "execution_count": 441,
   "metadata": {},
   "outputs": [
    {
     "name": "stdout",
     "output_type": "stream",
     "text": [
      "Test MSE: 191982.158\n"
     ]
    }
   ],
   "source": [
    "dtest = xgb.DMatrix(X_test, label=y_test, feature_names=features_to_use)\n",
    "y_test_predict = modelXGB.predict(dtest)\n",
    "\n",
    "print(\"Test MSE: {:.3f}\".format(np.sqrt(metrics.mean_squared_error(y_test, y_test_predict))))"
   ]
  },
  {
   "cell_type": "markdown",
   "metadata": {},
   "source": [
    "Значение метрики MSE = 191982.158 на новых данных."
   ]
  }
 ],
 "metadata": {
  "kernelspec": {
   "display_name": "Python 3",
   "language": "python",
   "name": "python3"
  },
  "language_info": {
   "codemirror_mode": {
    "name": "ipython",
    "version": 3
   },
   "file_extension": ".py",
   "mimetype": "text/x-python",
   "name": "python",
   "nbconvert_exporter": "python",
   "pygments_lexer": "ipython3",
   "version": "3.9.12"
  }
 },
 "nbformat": 4,
 "nbformat_minor": 2
}
